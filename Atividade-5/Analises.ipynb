{
 "cells": [
  {
   "cell_type": "code",
   "execution_count": 1,
   "id": "optical-edwards",
   "metadata": {},
   "outputs": [],
   "source": [
    "import numpy as np\n",
    "import pandas as pd"
   ]
  },
  {
   "cell_type": "markdown",
   "id": "terminal-memphis",
   "metadata": {},
   "source": [
    "## 1. Altere nossa implementação de kNN para que ela possa calcular regressão"
   ]
  },
  {
   "cell_type": "code",
   "execution_count": 2,
   "id": "breeding-ethernet",
   "metadata": {},
   "outputs": [],
   "source": [
    "# Distância euclidiana\n",
    "def euclidean_distances(X, X_row):\n",
    "    X_ = (X - X_row) ** 2\n",
    "    return np.sum(X_, axis=1) ** 0.5"
   ]
  },
  {
   "cell_type": "code",
   "execution_count": 3,
   "id": "assured-funds",
   "metadata": {},
   "outputs": [],
   "source": [
    "# k vizinhos mais proximos\n",
    "def get_neighbors(X_train, test_row, k):\n",
    "    distances = euclidean_distances(X_train, test_row)\n",
    "    idx_sort = np.argsort(distances)\n",
    "    return idx_sort[:k]"
   ]
  },
  {
   "cell_type": "code",
   "execution_count": 4,
   "id": "induced-insulation",
   "metadata": {},
   "outputs": [],
   "source": [
    "# Regressão de novo k\n",
    "def predict_regression(X, y, test_row, k):\n",
    "    idx_sort = get_neighbors(X, test_row, k)\n",
    "    output_values = y[idx_sort]\n",
    "    prediction = np.mean(output_values)\n",
    "    print('idx_sort:{}, output_values:{}, prediction:{}'.format(idx_sort, output_values, prediction))\n",
    "    return prediction"
   ]
  },
  {
   "cell_type": "markdown",
   "id": "affected-density",
   "metadata": {},
   "source": [
    "## 2. Use os seguintes dados como dados de treino (X_treino) para o kNN, onde House Price Index é o nosso rótulo (label ou y_treino):"
   ]
  },
  {
   "cell_type": "code",
   "execution_count": 5,
   "id": "mighty-commander",
   "metadata": {},
   "outputs": [],
   "source": [
    "df = pd.DataFrame({\n",
    "    'Age': [25,35,45,20,35,52,23,40,60,48,33],\n",
    "    'Loan': [40,60,80,20,120,18,95,62,100,220,150],\n",
    "    'House Price Index': [135,256,231,267,139,150,127,216,139,250,264]\n",
    "})"
   ]
  },
  {
   "cell_type": "code",
   "execution_count": 6,
   "id": "treated-dependence",
   "metadata": {},
   "outputs": [],
   "source": [
    "X_train = df.drop(columns=['House Price Index'], axis=1).values\n",
    "y_train = df['House Price Index'].values"
   ]
  },
  {
   "cell_type": "markdown",
   "id": "signal-world",
   "metadata": {},
   "source": [
    "### Use a implementação de regressão para o kNN implementada na Questão 1 para:"
   ]
  },
  {
   "cell_type": "markdown",
   "id": "changing-lending",
   "metadata": {},
   "source": [
    "### a) Calcular o rótulo para quando Age = 42 e Loan = $142,000."
   ]
  },
  {
   "cell_type": "code",
   "execution_count": 7,
   "id": "forced-house",
   "metadata": {},
   "outputs": [
    {
     "name": "stdout",
     "output_type": "stream",
     "text": [
      "idx_sort:[10  4], output_values:[264 139], prediction:201.5\n"
     ]
    },
    {
     "data": {
      "text/plain": [
       "201.5"
      ]
     },
     "execution_count": 7,
     "metadata": {},
     "output_type": "execute_result"
    }
   ],
   "source": [
    "predict_regression(X_train, y_train, (42, 142), k=2)"
   ]
  },
  {
   "cell_type": "markdown",
   "id": "smoking-peoples",
   "metadata": {},
   "source": [
    "### b) Calcular o rótulo para quando Age = 30 e Loan = $50,000.\n"
   ]
  },
  {
   "cell_type": "code",
   "execution_count": 8,
   "id": "controlled-effects",
   "metadata": {},
   "outputs": [
    {
     "name": "stdout",
     "output_type": "stream",
     "text": [
      "idx_sort:[0 1], output_values:[135 256], prediction:195.5\n"
     ]
    },
    {
     "data": {
      "text/plain": [
       "195.5"
      ]
     },
     "execution_count": 8,
     "metadata": {},
     "output_type": "execute_result"
    }
   ],
   "source": [
    "predict_regression(X_train, y_train, (30, 50), k=2)"
   ]
  },
  {
   "cell_type": "markdown",
   "id": "legal-happening",
   "metadata": {},
   "source": [
    "# ---------------------------"
   ]
  },
  {
   "cell_type": "code",
   "execution_count": 9,
   "id": "practical-tunnel",
   "metadata": {},
   "outputs": [],
   "source": [
    "from sklearn.neighbors import KNeighborsRegressor\n",
    "from sklearn.model_selection import train_test_split\n",
    "from sklearn.metrics import accuracy_score"
   ]
  },
  {
   "cell_type": "code",
   "execution_count": 10,
   "id": "legitimate-hayes",
   "metadata": {},
   "outputs": [],
   "source": [
    "df_wine = pd.read_csv(\"winequality-white.csv\", sep=\";\")"
   ]
  },
  {
   "cell_type": "code",
   "execution_count": 11,
   "id": "meaning-beauty",
   "metadata": {},
   "outputs": [
    {
     "data": {
      "text/html": [
       "<div>\n",
       "<style scoped>\n",
       "    .dataframe tbody tr th:only-of-type {\n",
       "        vertical-align: middle;\n",
       "    }\n",
       "\n",
       "    .dataframe tbody tr th {\n",
       "        vertical-align: top;\n",
       "    }\n",
       "\n",
       "    .dataframe thead th {\n",
       "        text-align: right;\n",
       "    }\n",
       "</style>\n",
       "<table border=\"1\" class=\"dataframe\">\n",
       "  <thead>\n",
       "    <tr style=\"text-align: right;\">\n",
       "      <th></th>\n",
       "      <th>fixed acidity</th>\n",
       "      <th>volatile acidity</th>\n",
       "      <th>citric acid</th>\n",
       "      <th>residual sugar</th>\n",
       "      <th>chlorides</th>\n",
       "      <th>free sulfur dioxide</th>\n",
       "      <th>total sulfur dioxide</th>\n",
       "      <th>density</th>\n",
       "      <th>pH</th>\n",
       "      <th>sulphates</th>\n",
       "      <th>alcohol</th>\n",
       "      <th>quality</th>\n",
       "    </tr>\n",
       "  </thead>\n",
       "  <tbody>\n",
       "    <tr>\n",
       "      <th>0</th>\n",
       "      <td>7.0</td>\n",
       "      <td>0.27</td>\n",
       "      <td>0.36</td>\n",
       "      <td>20.7</td>\n",
       "      <td>0.045</td>\n",
       "      <td>45.0</td>\n",
       "      <td>170.0</td>\n",
       "      <td>1.0010</td>\n",
       "      <td>3.00</td>\n",
       "      <td>0.45</td>\n",
       "      <td>8.8</td>\n",
       "      <td>6</td>\n",
       "    </tr>\n",
       "    <tr>\n",
       "      <th>1</th>\n",
       "      <td>6.3</td>\n",
       "      <td>0.30</td>\n",
       "      <td>0.34</td>\n",
       "      <td>1.6</td>\n",
       "      <td>0.049</td>\n",
       "      <td>14.0</td>\n",
       "      <td>132.0</td>\n",
       "      <td>0.9940</td>\n",
       "      <td>3.30</td>\n",
       "      <td>0.49</td>\n",
       "      <td>9.5</td>\n",
       "      <td>6</td>\n",
       "    </tr>\n",
       "    <tr>\n",
       "      <th>2</th>\n",
       "      <td>8.1</td>\n",
       "      <td>0.28</td>\n",
       "      <td>0.40</td>\n",
       "      <td>6.9</td>\n",
       "      <td>0.050</td>\n",
       "      <td>30.0</td>\n",
       "      <td>97.0</td>\n",
       "      <td>0.9951</td>\n",
       "      <td>3.26</td>\n",
       "      <td>0.44</td>\n",
       "      <td>10.1</td>\n",
       "      <td>6</td>\n",
       "    </tr>\n",
       "    <tr>\n",
       "      <th>3</th>\n",
       "      <td>7.2</td>\n",
       "      <td>0.23</td>\n",
       "      <td>0.32</td>\n",
       "      <td>8.5</td>\n",
       "      <td>0.058</td>\n",
       "      <td>47.0</td>\n",
       "      <td>186.0</td>\n",
       "      <td>0.9956</td>\n",
       "      <td>3.19</td>\n",
       "      <td>0.40</td>\n",
       "      <td>9.9</td>\n",
       "      <td>6</td>\n",
       "    </tr>\n",
       "    <tr>\n",
       "      <th>4</th>\n",
       "      <td>7.2</td>\n",
       "      <td>0.23</td>\n",
       "      <td>0.32</td>\n",
       "      <td>8.5</td>\n",
       "      <td>0.058</td>\n",
       "      <td>47.0</td>\n",
       "      <td>186.0</td>\n",
       "      <td>0.9956</td>\n",
       "      <td>3.19</td>\n",
       "      <td>0.40</td>\n",
       "      <td>9.9</td>\n",
       "      <td>6</td>\n",
       "    </tr>\n",
       "  </tbody>\n",
       "</table>\n",
       "</div>"
      ],
      "text/plain": [
       "   fixed acidity  volatile acidity  citric acid  residual sugar  chlorides  \\\n",
       "0            7.0              0.27         0.36            20.7      0.045   \n",
       "1            6.3              0.30         0.34             1.6      0.049   \n",
       "2            8.1              0.28         0.40             6.9      0.050   \n",
       "3            7.2              0.23         0.32             8.5      0.058   \n",
       "4            7.2              0.23         0.32             8.5      0.058   \n",
       "\n",
       "   free sulfur dioxide  total sulfur dioxide  density    pH  sulphates  \\\n",
       "0                 45.0                 170.0   1.0010  3.00       0.45   \n",
       "1                 14.0                 132.0   0.9940  3.30       0.49   \n",
       "2                 30.0                  97.0   0.9951  3.26       0.44   \n",
       "3                 47.0                 186.0   0.9956  3.19       0.40   \n",
       "4                 47.0                 186.0   0.9956  3.19       0.40   \n",
       "\n",
       "   alcohol  quality  \n",
       "0      8.8        6  \n",
       "1      9.5        6  \n",
       "2     10.1        6  \n",
       "3      9.9        6  \n",
       "4      9.9        6  "
      ]
     },
     "execution_count": 11,
     "metadata": {},
     "output_type": "execute_result"
    }
   ],
   "source": [
    "df_wine.head()"
   ]
  },
  {
   "cell_type": "markdown",
   "id": "opposed-action",
   "metadata": {},
   "source": [
    "## 3.1 Separe 70% dos dados para treino (conjunto de treino) e 30% dos dados para teste (conjunto de teste)."
   ]
  },
  {
   "cell_type": "code",
   "execution_count": 12,
   "id": "accepted-process",
   "metadata": {},
   "outputs": [],
   "source": [
    "X = df_wine.drop(columns=['quality'], axis=1).values\n",
    "y = df_wine['quality'].values"
   ]
  },
  {
   "cell_type": "code",
   "execution_count": 13,
   "id": "casual-omaha",
   "metadata": {},
   "outputs": [],
   "source": [
    "X_train, X_test, y_train, y_test = train_test_split(X, y, train_size=0.7, random_state=42)"
   ]
  },
  {
   "cell_type": "markdown",
   "id": "interim-train",
   "metadata": {},
   "source": [
    "## 3.2. Crie um modelo de regressão de qualidade de vinho usando o kNN para k=5."
   ]
  },
  {
   "cell_type": "code",
   "execution_count": 14,
   "id": "latest-ideal",
   "metadata": {},
   "outputs": [
    {
     "data": {
      "text/plain": [
       "KNeighborsRegressor()"
      ]
     },
     "execution_count": 14,
     "metadata": {},
     "output_type": "execute_result"
    }
   ],
   "source": [
    "model = KNeighborsRegressor(n_neighbors=5)\n",
    "model.fit(X_train, y_train)"
   ]
  },
  {
   "cell_type": "markdown",
   "id": "recovered-schedule",
   "metadata": {},
   "source": [
    "## 3.3. Use o modelo de regressão sobre X_test para calcular os valores preditos dos rótulos (y_pred)."
   ]
  },
  {
   "cell_type": "code",
   "execution_count": 15,
   "id": "nonprofit-wilson",
   "metadata": {},
   "outputs": [
    {
     "data": {
      "text/plain": [
       "array([5.8, 6.6, 6.2, ..., 5.8, 6.2, 6.4])"
      ]
     },
     "execution_count": 15,
     "metadata": {},
     "output_type": "execute_result"
    }
   ],
   "source": [
    "model.predict(X_test)"
   ]
  },
  {
   "cell_type": "code",
   "execution_count": 16,
   "id": "private-parts",
   "metadata": {},
   "outputs": [
    {
     "data": {
      "text/plain": [
       "array([7, 8, 8, ..., 6, 7, 7])"
      ]
     },
     "execution_count": 16,
     "metadata": {},
     "output_type": "execute_result"
    }
   ],
   "source": [
    "y_test"
   ]
  },
  {
   "cell_type": "code",
   "execution_count": 17,
   "id": "affecting-celtic",
   "metadata": {},
   "outputs": [
    {
     "data": {
      "text/plain": [
       "0.1508763757631555"
      ]
     },
     "execution_count": 17,
     "metadata": {},
     "output_type": "execute_result"
    }
   ],
   "source": [
    "model.score(X_test, y_test)"
   ]
  }
 ],
 "metadata": {
  "kernelspec": {
   "display_name": "Python 3",
   "language": "python",
   "name": "python3"
  },
  "language_info": {
   "codemirror_mode": {
    "name": "ipython",
    "version": 3
   },
   "file_extension": ".py",
   "mimetype": "text/x-python",
   "name": "python",
   "nbconvert_exporter": "python",
   "pygments_lexer": "ipython3",
   "version": "3.8.5"
  }
 },
 "nbformat": 4,
 "nbformat_minor": 5
}
